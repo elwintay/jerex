{
 "cells": [
  {
   "cell_type": "code",
   "execution_count": 17,
   "metadata": {},
   "outputs": [],
   "source": [
    "import pandas as pd\n",
    "import json\n",
    "import os\n",
    "import json\n",
    "import re"
   ]
  },
  {
   "cell_type": "code",
   "execution_count": 18,
   "metadata": {},
   "outputs": [],
   "source": [
    "def read_dataset(filepath):\n",
    "    with open(filepath) as file:\n",
    "        data = json.load(file)\n",
    "    file.close()\n",
    "    return data"
   ]
  },
  {
   "cell_type": "code",
   "execution_count": 19,
   "metadata": {},
   "outputs": [],
   "source": [
    "new_dwie = read_dataset('../data/datasets/dwie_before_preproc/new_dwie.json')"
   ]
  },
  {
   "cell_type": "code",
   "execution_count": 20,
   "metadata": {},
   "outputs": [],
   "source": [
    "all_ent_classes = new_dwie['ent_classes']\n",
    "ent_dict = {}\n",
    "for ent in all_ent_classes:\n",
    "    within_dict = {}\n",
    "    within_dict['short'] = ent\n",
    "    within_dict['verbose'] = ent\n",
    "    ent_dict[ent] = within_dict\n",
    "    "
   ]
  },
  {
   "cell_type": "code",
   "execution_count": 21,
   "metadata": {},
   "outputs": [],
   "source": [
    "all_rel = new_dwie['rel_classes']\n",
    "rel_dict = {}\n",
    "for i,rel in enumerate(all_rel):\n",
    "    within_dict = {}\n",
    "    within_dict['symmetric'] = False\n",
    "    within_dict['short'] = rel\n",
    "    within_dict['verbose'] = rel\n",
    "    rel_dict[rel] = within_dict"
   ]
  },
  {
   "cell_type": "code",
   "execution_count": 22,
   "metadata": {},
   "outputs": [],
   "source": [
    "full_dict = {}\n",
    "full_dict['entities'] = ent_dict\n",
    "full_dict['relations'] = rel_dict"
   ]
  },
  {
   "cell_type": "code",
   "execution_count": 23,
   "metadata": {},
   "outputs": [],
   "source": [
    "with open('../data/datasets/dwie_before_preproc/types.json', 'w') as outfile:\n",
    "    json.dump(full_dict, outfile)"
   ]
  },
  {
   "cell_type": "code",
   "execution_count": null,
   "metadata": {},
   "outputs": [],
   "source": []
  }
 ],
 "metadata": {
  "kernelspec": {
   "display_name": "Python 3",
   "language": "python",
   "name": "python3"
  },
  "language_info": {
   "codemirror_mode": {
    "name": "ipython",
    "version": 3
   },
   "file_extension": ".py",
   "mimetype": "text/x-python",
   "name": "python",
   "nbconvert_exporter": "python",
   "pygments_lexer": "ipython3",
   "version": "3.8.5"
  }
 },
 "nbformat": 4,
 "nbformat_minor": 4
}
